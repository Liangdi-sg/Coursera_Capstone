{
    "cells": [
        {
            "cell_type": "markdown",
            "metadata": {
                "collapsed": true
            },
            "source": "## Final Report"
        },
        {
            "cell_type": "markdown",
            "metadata": {},
            "source": "## 1.Introduction\nI have been learning IBM DataScience for a few weeks. Now I will try to analysis a real problem and create values.<br/>\nMy project is relevant to **sits selection** and it can be used as a recommendation system.My analysis was performed<br/>\nin **Python**. The details are pushed to **Github**, containing detailed report and the Jupyter notebook. I will link them at<br/> the end of the report.\n"
        },
        {
            "cell_type": "markdown",
            "metadata": {},
            "source": "## 2.Business Problem\nMy friend Mike lived in **Chinatown** in **Manhattan** and he was prety ebjoied the venures in his neighborhood. <br/>\nHowever, he has to move to Toronto recently for his new job.He wants to pick a new neighborhood which is similar <br/>\nto the old one.The following criteria should be considered:\n- The features of Chinatown in Manhattan.\n- The features of Neighborhoods in Toronto.\n- Determine how similar or dissimilar they are.\n\n\nThe assumption behind the analysis is that we can use unsupervised machine learning to create clusters of districts <br/>\nthat will provide us with a list of areas for potential locations for the new neighborhoods."
        },
        {
            "cell_type": "markdown",
            "metadata": {},
            "source": "## 3.Data\nTo perform this analysis, we will need the following data:\n\n- A dataset that contains the Manhattan as well as the the latitude and logitude coordinates of Chinatown.\n- A neighborhoods data in Toronto.\n- Venues's information of districts\n\nNeighborhoods data in Manhattan will be obtained from dataset link: https://geo.nyu.edu/catalog/nyu_2451_34572<br/>\nA neighborhoods data in Toronto will be obtained from wed:'https://en.wikipedia.org/wiki/List_of_postal_codes_of_Canada:_M'<br/>\nTop venues data will be obtained from Foursquare through an API."
        },
        {
            "cell_type": "code",
            "execution_count": 5,
            "metadata": {},
            "outputs": [],
            "source": "import numpy as np\nimport pandas as pd\nimport json\nfrom geopy.geocoders import Nominatim\nimport requests\nfrom pandas.io.json import json_normalize\nimport matplotlib.cm as cm\nimport matplotlib.colors as colors\nfrom sklearn.cluster import KMeans\nimport folium"
        },
        {
            "cell_type": "markdown",
            "metadata": {},
            "source": "***Download the data about neigorhoods in Manhattan***"
        },
        {
            "cell_type": "code",
            "execution_count": 6,
            "metadata": {},
            "outputs": [
                {
                    "name": "stdout",
                    "output_type": "stream",
                    "text": "Data downloaded!\n"
                }
            ],
            "source": "!wget -q -O 'newyork_data.json' https://cocl.us/new_york_dataset\nprint('Data downloaded!')"
        },
        {
            "cell_type": "markdown",
            "metadata": {},
            "source": "***Set the data into pandas dataframe***"
        },
        {
            "cell_type": "code",
            "execution_count": 22,
            "metadata": {},
            "outputs": [],
            "source": "with open('newyork_data.json') as json_data:\n    newyork_data = json.load(json_data)\nNeighbor_data=newyork_data['features']\ncolumns_names = ['Borough', 'Neighborhood', 'Latitude', 'Longitude']\nNeighborhoods=pd.DataFrame(columns=columns_names)"
        },
        {
            "cell_type": "code",
            "execution_count": 25,
            "metadata": {},
            "outputs": [],
            "source": "for data in Neighbor_data:\n    borough=data['properties']['borough']\n    neighborhood_name=data['properties']['name']\n    neighborhood_latlon=data['geometry']['coordinates']\n    neighborhood_lat=neighborhood_latlon[1]\n    neighborhood_lon=neighborhood_latlon[0]\n    Neighborhoods=Neighborhoods.append({'Borough':borough,\n                                        'Neighborhood':neighborhood_name,\n                                        'Latitude':neighborhood_lat,\n                                        'Longitude':neighborhood_lon},ignore_index=True)"
        },
        {
            "cell_type": "code",
            "execution_count": 26,
            "metadata": {},
            "outputs": [
                {
                    "data": {
                        "text/html": "<div>\n<style scoped>\n    .dataframe tbody tr th:only-of-type {\n        vertical-align: middle;\n    }\n\n    .dataframe tbody tr th {\n        vertical-align: top;\n    }\n\n    .dataframe thead th {\n        text-align: right;\n    }\n</style>\n<table border=\"1\" class=\"dataframe\">\n  <thead>\n    <tr style=\"text-align: right;\">\n      <th></th>\n      <th>Borough</th>\n      <th>Neighborhood</th>\n      <th>Latitude</th>\n      <th>Longitude</th>\n    </tr>\n  </thead>\n  <tbody>\n    <tr>\n      <th>0</th>\n      <td>Bronx</td>\n      <td>Wakefield</td>\n      <td>40.894705</td>\n      <td>-73.847201</td>\n    </tr>\n    <tr>\n      <th>1</th>\n      <td>Bronx</td>\n      <td>Co-op City</td>\n      <td>40.874294</td>\n      <td>-73.829939</td>\n    </tr>\n    <tr>\n      <th>2</th>\n      <td>Bronx</td>\n      <td>Eastchester</td>\n      <td>40.887556</td>\n      <td>-73.827806</td>\n    </tr>\n    <tr>\n      <th>3</th>\n      <td>Bronx</td>\n      <td>Fieldston</td>\n      <td>40.895437</td>\n      <td>-73.905643</td>\n    </tr>\n    <tr>\n      <th>4</th>\n      <td>Bronx</td>\n      <td>Riverdale</td>\n      <td>40.890834</td>\n      <td>-73.912585</td>\n    </tr>\n  </tbody>\n</table>\n</div>",
                        "text/plain": "  Borough Neighborhood   Latitude  Longitude\n0   Bronx    Wakefield  40.894705 -73.847201\n1   Bronx   Co-op City  40.874294 -73.829939\n2   Bronx  Eastchester  40.887556 -73.827806\n3   Bronx    Fieldston  40.895437 -73.905643\n4   Bronx    Riverdale  40.890834 -73.912585"
                    },
                    "execution_count": 26,
                    "metadata": {},
                    "output_type": "execute_result"
                }
            ],
            "source": "Neighborhoods.head()"
        },
        {
            "cell_type": "markdown",
            "metadata": {},
            "source": "***Get the data of Chinatown***"
        },
        {
            "cell_type": "code",
            "execution_count": 27,
            "metadata": {},
            "outputs": [
                {
                    "data": {
                        "text/html": "<div>\n<style scoped>\n    .dataframe tbody tr th:only-of-type {\n        vertical-align: middle;\n    }\n\n    .dataframe tbody tr th {\n        vertical-align: top;\n    }\n\n    .dataframe thead th {\n        text-align: right;\n    }\n</style>\n<table border=\"1\" class=\"dataframe\">\n  <thead>\n    <tr style=\"text-align: right;\">\n      <th></th>\n      <th>Borough</th>\n      <th>Neighborhood</th>\n      <th>Latitude</th>\n      <th>Longitude</th>\n    </tr>\n  </thead>\n  <tbody>\n    <tr>\n      <th>100</th>\n      <td>Manhattan</td>\n      <td>Chinatown</td>\n      <td>40.715618</td>\n      <td>-73.994279</td>\n    </tr>\n  </tbody>\n</table>\n</div>",
                        "text/plain": "       Borough Neighborhood   Latitude  Longitude\n100  Manhattan    Chinatown  40.715618 -73.994279"
                    },
                    "execution_count": 27,
                    "metadata": {},
                    "output_type": "execute_result"
                }
            ],
            "source": "ChinaTown=Neighborhoods[(Neighborhoods['Neighborhood']=='Chinatown')]\nChinaTown"
        },
        {
            "cell_type": "markdown",
            "metadata": {},
            "source": "***Download the dataset of Toronto***"
        },
        {
            "cell_type": "code",
            "execution_count": 28,
            "metadata": {},
            "outputs": [
                {
                    "data": {
                        "text/html": "<div>\n<style scoped>\n    .dataframe tbody tr th:only-of-type {\n        vertical-align: middle;\n    }\n\n    .dataframe tbody tr th {\n        vertical-align: top;\n    }\n\n    .dataframe thead th {\n        text-align: right;\n    }\n</style>\n<table border=\"1\" class=\"dataframe\">\n  <thead>\n    <tr style=\"text-align: right;\">\n      <th></th>\n      <th>Postal Code</th>\n      <th>Borough</th>\n      <th>Neighborhood</th>\n    </tr>\n  </thead>\n  <tbody>\n    <tr>\n      <th>0</th>\n      <td>M1A</td>\n      <td>Not assigned</td>\n      <td>Not assigned</td>\n    </tr>\n    <tr>\n      <th>1</th>\n      <td>M2A</td>\n      <td>Not assigned</td>\n      <td>Not assigned</td>\n    </tr>\n    <tr>\n      <th>2</th>\n      <td>M3A</td>\n      <td>North York</td>\n      <td>Parkwoods</td>\n    </tr>\n    <tr>\n      <th>3</th>\n      <td>M4A</td>\n      <td>North York</td>\n      <td>Victoria Village</td>\n    </tr>\n    <tr>\n      <th>4</th>\n      <td>M5A</td>\n      <td>Downtown Toronto</td>\n      <td>Regent Park, Harbourfront</td>\n    </tr>\n  </tbody>\n</table>\n</div>",
                        "text/plain": "  Postal Code           Borough               Neighborhood\n0         M1A      Not assigned               Not assigned\n1         M2A      Not assigned               Not assigned\n2         M3A        North York                  Parkwoods\n3         M4A        North York           Victoria Village\n4         M5A  Downtown Toronto  Regent Park, Harbourfront"
                    },
                    "execution_count": 28,
                    "metadata": {},
                    "output_type": "execute_result"
                }
            ],
            "source": "page=pd.read_html('https://en.wikipedia.org/wiki/List_of_postal_codes_of_Canada:_M')\ndf=pd.DataFrame(page[0])\ndf.head()"
        },
        {
            "cell_type": "markdown",
            "metadata": {},
            "source": "***Clean the dataset***"
        },
        {
            "cell_type": "code",
            "execution_count": 52,
            "metadata": {},
            "outputs": [
                {
                    "data": {
                        "text/html": "<div>\n<style scoped>\n    .dataframe tbody tr th:only-of-type {\n        vertical-align: middle;\n    }\n\n    .dataframe tbody tr th {\n        vertical-align: top;\n    }\n\n    .dataframe thead th {\n        text-align: right;\n    }\n</style>\n<table border=\"1\" class=\"dataframe\">\n  <thead>\n    <tr style=\"text-align: right;\">\n      <th></th>\n      <th>Postal Code</th>\n      <th>Borough</th>\n      <th>Neighborhood</th>\n    </tr>\n  </thead>\n  <tbody>\n    <tr>\n      <th>4</th>\n      <td>M5A</td>\n      <td>Downtown Toronto</td>\n      <td>Regent Park, Harbourfront</td>\n    </tr>\n    <tr>\n      <th>6</th>\n      <td>M7A</td>\n      <td>Downtown Toronto</td>\n      <td>Queen's Park, Ontario Provincial Government</td>\n    </tr>\n    <tr>\n      <th>13</th>\n      <td>M5B</td>\n      <td>Downtown Toronto</td>\n      <td>Garden District, Ryerson</td>\n    </tr>\n    <tr>\n      <th>22</th>\n      <td>M5C</td>\n      <td>Downtown Toronto</td>\n      <td>St. James Town</td>\n    </tr>\n    <tr>\n      <th>30</th>\n      <td>M4E</td>\n      <td>East Toronto</td>\n      <td>The Beaches</td>\n    </tr>\n  </tbody>\n</table>\n</div>",
                        "text/plain": "   Postal Code           Borough                                 Neighborhood\n4          M5A  Downtown Toronto                    Regent Park, Harbourfront\n6          M7A  Downtown Toronto  Queen's Park, Ontario Provincial Government\n13         M5B  Downtown Toronto                     Garden District, Ryerson\n22         M5C  Downtown Toronto                               St. James Town\n30         M4E      East Toronto                                  The Beaches"
                    },
                    "execution_count": 52,
                    "metadata": {},
                    "output_type": "execute_result"
                }
            ],
            "source": "df['Borough'].replace('Not assigned',np.nan,inplace=True)\ndf=df.dropna(subset=['Borough'],axis=0)\ndf=df[df.Borough.str.contains('Toronto',case=False)]\ndf.head()"
        },
        {
            "cell_type": "markdown",
            "metadata": {},
            "source": "***Obtain LL***"
        },
        {
            "cell_type": "code",
            "execution_count": 53,
            "metadata": {},
            "outputs": [
                {
                    "data": {
                        "text/html": "<div>\n<style scoped>\n    .dataframe tbody tr th:only-of-type {\n        vertical-align: middle;\n    }\n\n    .dataframe tbody tr th {\n        vertical-align: top;\n    }\n\n    .dataframe thead th {\n        text-align: right;\n    }\n</style>\n<table border=\"1\" class=\"dataframe\">\n  <thead>\n    <tr style=\"text-align: right;\">\n      <th></th>\n      <th>Postal Code</th>\n      <th>Borough</th>\n      <th>Neighborhood</th>\n      <th>Latitude</th>\n      <th>Longitude</th>\n    </tr>\n  </thead>\n  <tbody>\n    <tr>\n      <th>0</th>\n      <td>M5A</td>\n      <td>Downtown Toronto</td>\n      <td>Regent Park, Harbourfront</td>\n      <td>43.654260</td>\n      <td>-79.360636</td>\n    </tr>\n    <tr>\n      <th>1</th>\n      <td>M7A</td>\n      <td>Downtown Toronto</td>\n      <td>Queen's Park, Ontario Provincial Government</td>\n      <td>43.662301</td>\n      <td>-79.389494</td>\n    </tr>\n    <tr>\n      <th>2</th>\n      <td>M5B</td>\n      <td>Downtown Toronto</td>\n      <td>Garden District, Ryerson</td>\n      <td>43.657162</td>\n      <td>-79.378937</td>\n    </tr>\n    <tr>\n      <th>3</th>\n      <td>M5C</td>\n      <td>Downtown Toronto</td>\n      <td>St. James Town</td>\n      <td>43.651494</td>\n      <td>-79.375418</td>\n    </tr>\n    <tr>\n      <th>4</th>\n      <td>M4E</td>\n      <td>East Toronto</td>\n      <td>The Beaches</td>\n      <td>43.676357</td>\n      <td>-79.293031</td>\n    </tr>\n  </tbody>\n</table>\n</div>",
                        "text/plain": "  Postal Code           Borough                                 Neighborhood  \\\n0         M5A  Downtown Toronto                    Regent Park, Harbourfront   \n1         M7A  Downtown Toronto  Queen's Park, Ontario Provincial Government   \n2         M5B  Downtown Toronto                     Garden District, Ryerson   \n3         M5C  Downtown Toronto                               St. James Town   \n4         M4E      East Toronto                                  The Beaches   \n\n    Latitude  Longitude  \n0  43.654260 -79.360636  \n1  43.662301 -79.389494  \n2  43.657162 -79.378937  \n3  43.651494 -79.375418  \n4  43.676357 -79.293031  "
                    },
                    "execution_count": 53,
                    "metadata": {},
                    "output_type": "execute_result"
                }
            ],
            "source": "df_LL=pd.read_csv('http://cocl.us/Geospatial_data')\ndf_all=pd.merge(df,df_LL)\ndf_all.head()"
        },
        {
            "cell_type": "markdown",
            "metadata": {},
            "source": "***Pull the Mahantan data and the Toronto Data Together***"
        },
        {
            "cell_type": "code",
            "execution_count": 54,
            "metadata": {},
            "outputs": [
                {
                    "data": {
                        "text/html": "<div>\n<style scoped>\n    .dataframe tbody tr th:only-of-type {\n        vertical-align: middle;\n    }\n\n    .dataframe tbody tr th {\n        vertical-align: top;\n    }\n\n    .dataframe thead th {\n        text-align: right;\n    }\n</style>\n<table border=\"1\" class=\"dataframe\">\n  <thead>\n    <tr style=\"text-align: right;\">\n      <th></th>\n      <th>Borough</th>\n      <th>Neighborhood</th>\n      <th>Latitude</th>\n      <th>Longitude</th>\n    </tr>\n  </thead>\n  <tbody>\n    <tr>\n      <th>0</th>\n      <td>Downtown Toronto</td>\n      <td>Regent Park, Harbourfront</td>\n      <td>43.654260</td>\n      <td>-79.360636</td>\n    </tr>\n    <tr>\n      <th>1</th>\n      <td>Downtown Toronto</td>\n      <td>Queen's Park, Ontario Provincial Government</td>\n      <td>43.662301</td>\n      <td>-79.389494</td>\n    </tr>\n    <tr>\n      <th>2</th>\n      <td>Downtown Toronto</td>\n      <td>Garden District, Ryerson</td>\n      <td>43.657162</td>\n      <td>-79.378937</td>\n    </tr>\n    <tr>\n      <th>3</th>\n      <td>Downtown Toronto</td>\n      <td>St. James Town</td>\n      <td>43.651494</td>\n      <td>-79.375418</td>\n    </tr>\n    <tr>\n      <th>4</th>\n      <td>East Toronto</td>\n      <td>The Beaches</td>\n      <td>43.676357</td>\n      <td>-79.293031</td>\n    </tr>\n  </tbody>\n</table>\n</div>",
                        "text/plain": "            Borough                                 Neighborhood   Latitude  \\\n0  Downtown Toronto                    Regent Park, Harbourfront  43.654260   \n1  Downtown Toronto  Queen's Park, Ontario Provincial Government  43.662301   \n2  Downtown Toronto                     Garden District, Ryerson  43.657162   \n3  Downtown Toronto                               St. James Town  43.651494   \n4      East Toronto                                  The Beaches  43.676357   \n\n   Longitude  \n0 -79.360636  \n1 -79.389494  \n2 -79.378937  \n3 -79.375418  \n4 -79.293031  "
                    },
                    "execution_count": 54,
                    "metadata": {},
                    "output_type": "execute_result"
                }
            ],
            "source": "df_new=df_all[['Borough','Neighborhood','Latitude','Longitude']]\ndf_new.head()"
        },
        {
            "cell_type": "code",
            "execution_count": 55,
            "metadata": {},
            "outputs": [
                {
                    "data": {
                        "text/html": "<div>\n<style scoped>\n    .dataframe tbody tr th:only-of-type {\n        vertical-align: middle;\n    }\n\n    .dataframe tbody tr th {\n        vertical-align: top;\n    }\n\n    .dataframe thead th {\n        text-align: right;\n    }\n</style>\n<table border=\"1\" class=\"dataframe\">\n  <thead>\n    <tr style=\"text-align: right;\">\n      <th></th>\n      <th>Borough</th>\n      <th>Neighborhood</th>\n      <th>Latitude</th>\n      <th>Longitude</th>\n    </tr>\n  </thead>\n  <tbody>\n    <tr>\n      <th>39</th>\n      <td>Manhattan</td>\n      <td>Chinatown</td>\n      <td>40.715618</td>\n      <td>-73.994279</td>\n    </tr>\n  </tbody>\n</table>\n</div>",
                        "text/plain": "      Borough Neighborhood   Latitude  Longitude\n39  Manhattan    Chinatown  40.715618 -73.994279"
                    },
                    "execution_count": 55,
                    "metadata": {},
                    "output_type": "execute_result"
                }
            ],
            "source": "row={'Borough':'Manhattan','Neighborhood':'Chinatown','Latitude':40.715618,'Longitude':-73.994279}\ndf_new=df_new.append(row,ignore_index=True)\ndf_new[(df_new['Neighborhood']=='Chinatown')]"
        },
        {
            "cell_type": "markdown",
            "metadata": {},
            "source": "***Generate the final dataset***"
        },
        {
            "cell_type": "code",
            "execution_count": 56,
            "metadata": {},
            "outputs": [],
            "source": "CLIENT_ID = 'M4J1ULQCTBAARW1CHRL4LOSOU5OFG02MJRPQRNLTGRM02UP2' # your Foursquare ID\nCLIENT_SECRET = 'B221FKTWRZIUAO5VLBO5HURLKAU42K0YIDXBQRJT4PXTBZ3W' # your Foursquare Secret\nVERSION = '20180605' # Foursquare API version\n\ndef getNearbyVenues(names, latitudes, longitudes, radius=500, LIMIT=100):\n    \n    venues_list=[]\n    for name, lat, lng in zip(names, latitudes, longitudes):\n        print(name)\n            \n        # create the API request URL\n        url = 'https://api.foursquare.com/v2/venues/explore?&client_id={}&client_secret={}&v={}&ll={},{}&radius={}&limit={}'.format(\n            CLIENT_ID, \n            CLIENT_SECRET, \n            VERSION, \n            lat, \n            lng, \n            radius, \n            LIMIT)\n            \n        # make the GET request\n        results = requests.get(url).json()[\"response\"]['groups'][0]['items']\n        \n        # return only relevant information for each nearby venue\n        venues_list.append([(\n            name, \n            lat, \n            lng, \n            v['venue']['name'], \n            v['venue']['location']['lat'], \n            v['venue']['location']['lng'],  \n            v['venue']['categories'][0]['name']) for v in results])\n\n    nearby_venues = pd.DataFrame([item for venue_list in venues_list for item in venue_list])\n    nearby_venues.columns = ['Neighborhood', \n                  'Neighborhood Latitude', \n                  'Neighborhood Longitude', \n                  'Venue', \n                  'Venue Latitude', \n                  'Venue Longitude', \n                  'Venue Category']\n    \n    return(nearby_venues)"
        },
        {
            "cell_type": "code",
            "execution_count": 57,
            "metadata": {},
            "outputs": [
                {
                    "name": "stdout",
                    "output_type": "stream",
                    "text": "Regent Park, Harbourfront\nQueen's Park, Ontario Provincial Government\nGarden District, Ryerson\nSt. James Town\nThe Beaches\nBerczy Park\nCentral Bay Street\nChristie\nRichmond, Adelaide, King\nDufferin, Dovercourt Village\nHarbourfront East, Union Station, Toronto Islands\nLittle Portugal, Trinity\nThe Danforth West, Riverdale\nToronto Dominion Centre, Design Exchange\nBrockton, Parkdale Village, Exhibition Place\nIndia Bazaar, The Beaches West\nCommerce Court, Victoria Hotel\nStudio District\nLawrence Park\nRoselawn\nDavisville North\nForest Hill North & West, Forest Hill Road Park\nHigh Park, The Junction South\nNorth Toronto West, Lawrence Park\nThe Annex, North Midtown, Yorkville\nParkdale, Roncesvalles\nDavisville\nUniversity of Toronto, Harbord\nRunnymede, Swansea\nMoore Park, Summerhill East\nKensington Market, Chinatown, Grange Park\nSummerhill West, Rathnelly, South Hill, Forest Hill SE, Deer Park\nCN Tower, King and Spadina, Railway Lands, Harbourfront West, Bathurst Quay, South Niagara, Island airport\nRosedale\nStn A PO Boxes\nSt. James Town, Cabbagetown\nFirst Canadian Place, Underground city\nChurch and Wellesley\nBusiness reply mail Processing Centre, South Central Letter Processing Plant Toronto\nChinatown\n"
                }
            ],
            "source": "Venues_all = getNearbyVenues(names=df_new['Neighborhood'],\n                                   latitudes=df_new['Latitude'],\n                                   longitudes=df_new['Longitude']\n                                  )"
        },
        {
            "cell_type": "code",
            "execution_count": 58,
            "metadata": {},
            "outputs": [
                {
                    "data": {
                        "text/html": "<div>\n<style scoped>\n    .dataframe tbody tr th:only-of-type {\n        vertical-align: middle;\n    }\n\n    .dataframe tbody tr th {\n        vertical-align: top;\n    }\n\n    .dataframe thead th {\n        text-align: right;\n    }\n</style>\n<table border=\"1\" class=\"dataframe\">\n  <thead>\n    <tr style=\"text-align: right;\">\n      <th></th>\n      <th>Neighborhood</th>\n      <th>Neighborhood Latitude</th>\n      <th>Neighborhood Longitude</th>\n      <th>Venue</th>\n      <th>Venue Latitude</th>\n      <th>Venue Longitude</th>\n      <th>Venue Category</th>\n    </tr>\n  </thead>\n  <tbody>\n    <tr>\n      <th>0</th>\n      <td>Regent Park, Harbourfront</td>\n      <td>43.65426</td>\n      <td>-79.360636</td>\n      <td>Roselle Desserts</td>\n      <td>43.653447</td>\n      <td>-79.362017</td>\n      <td>Bakery</td>\n    </tr>\n    <tr>\n      <th>1</th>\n      <td>Regent Park, Harbourfront</td>\n      <td>43.65426</td>\n      <td>-79.360636</td>\n      <td>Tandem Coffee</td>\n      <td>43.653559</td>\n      <td>-79.361809</td>\n      <td>Coffee Shop</td>\n    </tr>\n    <tr>\n      <th>2</th>\n      <td>Regent Park, Harbourfront</td>\n      <td>43.65426</td>\n      <td>-79.360636</td>\n      <td>Morning Glory Cafe</td>\n      <td>43.653947</td>\n      <td>-79.361149</td>\n      <td>Breakfast Spot</td>\n    </tr>\n    <tr>\n      <th>3</th>\n      <td>Regent Park, Harbourfront</td>\n      <td>43.65426</td>\n      <td>-79.360636</td>\n      <td>Cooper Koo Family YMCA</td>\n      <td>43.653249</td>\n      <td>-79.358008</td>\n      <td>Distribution Center</td>\n    </tr>\n    <tr>\n      <th>4</th>\n      <td>Regent Park, Harbourfront</td>\n      <td>43.65426</td>\n      <td>-79.360636</td>\n      <td>Body Blitz Spa East</td>\n      <td>43.654735</td>\n      <td>-79.359874</td>\n      <td>Spa</td>\n    </tr>\n  </tbody>\n</table>\n</div>",
                        "text/plain": "                Neighborhood  Neighborhood Latitude  Neighborhood Longitude  \\\n0  Regent Park, Harbourfront               43.65426              -79.360636   \n1  Regent Park, Harbourfront               43.65426              -79.360636   \n2  Regent Park, Harbourfront               43.65426              -79.360636   \n3  Regent Park, Harbourfront               43.65426              -79.360636   \n4  Regent Park, Harbourfront               43.65426              -79.360636   \n\n                    Venue  Venue Latitude  Venue Longitude  \\\n0        Roselle Desserts       43.653447       -79.362017   \n1           Tandem Coffee       43.653559       -79.361809   \n2      Morning Glory Cafe       43.653947       -79.361149   \n3  Cooper Koo Family YMCA       43.653249       -79.358008   \n4     Body Blitz Spa East       43.654735       -79.359874   \n\n        Venue Category  \n0               Bakery  \n1          Coffee Shop  \n2       Breakfast Spot  \n3  Distribution Center  \n4                  Spa  "
                    },
                    "execution_count": 58,
                    "metadata": {},
                    "output_type": "execute_result"
                }
            ],
            "source": "Venues_all.head()"
        },
        {
            "cell_type": "markdown",
            "metadata": {},
            "source": "## 4.Methodology\nIn this part, we will direct our effort on detecting neighborhoods in Toronto whose venurs features are similar with Chinatow in Mahantan. <br/>\nWe will limit our analysis in **radius of 500 meters** and we only analysis the **top 100 venues**.<br/><br/>\nIn first step we have collected the required data: **location and type(category**) of every venue within 500 meters from the Neighborhood.<br/><br>\nIn second step we will cluster the neighborhoods using the **K-means** method. Then we will get several similar groups.<br/><br/>\nIn third and final step we will provide a list of neighborhoods which are similar with the Chinatown in Manhatan. We will also give a rank of the venues."
        },
        {
            "cell_type": "markdown",
            "metadata": {},
            "source": "## 5.Analysis"
        },
        {
            "cell_type": "markdown",
            "metadata": {},
            "source": "***The frequence of venues***"
        },
        {
            "cell_type": "code",
            "execution_count": 60,
            "metadata": {},
            "outputs": [
                {
                    "data": {
                        "text/html": "<div>\n<style scoped>\n    .dataframe tbody tr th:only-of-type {\n        vertical-align: middle;\n    }\n\n    .dataframe tbody tr th {\n        vertical-align: top;\n    }\n\n    .dataframe thead th {\n        text-align: right;\n    }\n</style>\n<table border=\"1\" class=\"dataframe\">\n  <thead>\n    <tr style=\"text-align: right;\">\n      <th></th>\n      <th>Yoga Studio</th>\n      <th>Afghan Restaurant</th>\n      <th>Airport</th>\n      <th>Airport Food Court</th>\n      <th>Airport Lounge</th>\n      <th>Airport Service</th>\n      <th>Airport Terminal</th>\n      <th>American Restaurant</th>\n      <th>Antique Shop</th>\n      <th>Aquarium</th>\n      <th>...</th>\n      <th>Toy / Game Store</th>\n      <th>Trail</th>\n      <th>Train Station</th>\n      <th>Vegetarian / Vegan Restaurant</th>\n      <th>Video Game Store</th>\n      <th>Video Store</th>\n      <th>Vietnamese Restaurant</th>\n      <th>Wine Bar</th>\n      <th>Wings Joint</th>\n      <th>Women's Store</th>\n    </tr>\n  </thead>\n  <tbody>\n    <tr>\n      <th>0</th>\n      <td>0</td>\n      <td>0</td>\n      <td>0</td>\n      <td>0</td>\n      <td>0</td>\n      <td>0</td>\n      <td>0</td>\n      <td>0</td>\n      <td>0</td>\n      <td>0</td>\n      <td>...</td>\n      <td>0</td>\n      <td>0</td>\n      <td>0</td>\n      <td>0</td>\n      <td>0</td>\n      <td>0</td>\n      <td>0</td>\n      <td>0</td>\n      <td>0</td>\n      <td>0</td>\n    </tr>\n    <tr>\n      <th>1</th>\n      <td>0</td>\n      <td>0</td>\n      <td>0</td>\n      <td>0</td>\n      <td>0</td>\n      <td>0</td>\n      <td>0</td>\n      <td>0</td>\n      <td>0</td>\n      <td>0</td>\n      <td>...</td>\n      <td>0</td>\n      <td>0</td>\n      <td>0</td>\n      <td>0</td>\n      <td>0</td>\n      <td>0</td>\n      <td>0</td>\n      <td>0</td>\n      <td>0</td>\n      <td>0</td>\n    </tr>\n    <tr>\n      <th>2</th>\n      <td>0</td>\n      <td>0</td>\n      <td>0</td>\n      <td>0</td>\n      <td>0</td>\n      <td>0</td>\n      <td>0</td>\n      <td>0</td>\n      <td>0</td>\n      <td>0</td>\n      <td>...</td>\n      <td>0</td>\n      <td>0</td>\n      <td>0</td>\n      <td>0</td>\n      <td>0</td>\n      <td>0</td>\n      <td>0</td>\n      <td>0</td>\n      <td>0</td>\n      <td>0</td>\n    </tr>\n    <tr>\n      <th>3</th>\n      <td>0</td>\n      <td>0</td>\n      <td>0</td>\n      <td>0</td>\n      <td>0</td>\n      <td>0</td>\n      <td>0</td>\n      <td>0</td>\n      <td>0</td>\n      <td>0</td>\n      <td>...</td>\n      <td>0</td>\n      <td>0</td>\n      <td>0</td>\n      <td>0</td>\n      <td>0</td>\n      <td>0</td>\n      <td>0</td>\n      <td>0</td>\n      <td>0</td>\n      <td>0</td>\n    </tr>\n    <tr>\n      <th>4</th>\n      <td>0</td>\n      <td>0</td>\n      <td>0</td>\n      <td>0</td>\n      <td>0</td>\n      <td>0</td>\n      <td>0</td>\n      <td>0</td>\n      <td>0</td>\n      <td>0</td>\n      <td>...</td>\n      <td>0</td>\n      <td>0</td>\n      <td>0</td>\n      <td>0</td>\n      <td>0</td>\n      <td>0</td>\n      <td>0</td>\n      <td>0</td>\n      <td>0</td>\n      <td>0</td>\n    </tr>\n  </tbody>\n</table>\n<p>5 rows \u00d7 246 columns</p>\n</div>",
                        "text/plain": "   Yoga Studio  Afghan Restaurant  Airport  Airport Food Court  \\\n0            0                  0        0                   0   \n1            0                  0        0                   0   \n2            0                  0        0                   0   \n3            0                  0        0                   0   \n4            0                  0        0                   0   \n\n   Airport Lounge  Airport Service  Airport Terminal  American Restaurant  \\\n0               0                0                 0                    0   \n1               0                0                 0                    0   \n2               0                0                 0                    0   \n3               0                0                 0                    0   \n4               0                0                 0                    0   \n\n   Antique Shop  Aquarium  ...  Toy / Game Store  Trail  Train Station  \\\n0             0         0  ...                 0      0              0   \n1             0         0  ...                 0      0              0   \n2             0         0  ...                 0      0              0   \n3             0         0  ...                 0      0              0   \n4             0         0  ...                 0      0              0   \n\n   Vegetarian / Vegan Restaurant  Video Game Store  Video Store  \\\n0                              0                 0            0   \n1                              0                 0            0   \n2                              0                 0            0   \n3                              0                 0            0   \n4                              0                 0            0   \n\n   Vietnamese Restaurant  Wine Bar  Wings Joint  Women's Store  \n0                      0         0            0              0  \n1                      0         0            0              0  \n2                      0         0            0              0  \n3                      0         0            0              0  \n4                      0         0            0              0  \n\n[5 rows x 246 columns]"
                    },
                    "execution_count": 60,
                    "metadata": {},
                    "output_type": "execute_result"
                }
            ],
            "source": "onehot = pd.get_dummies(Venues_all['Venue Category'],prefix=\"\", prefix_sep=\"\")\nonehot['Neighborhood'] = Venues_all['Neighborhood'] \nfixed_columns = [onehot.columns[-1]] + list(onehot.columns[:-1])\nonehot = onehot[fixed_columns]\nonehot.head()"
        },
        {
            "cell_type": "code",
            "execution_count": 63,
            "metadata": {},
            "outputs": [
                {
                    "data": {
                        "text/html": "<div>\n<style scoped>\n    .dataframe tbody tr th:only-of-type {\n        vertical-align: middle;\n    }\n\n    .dataframe tbody tr th {\n        vertical-align: top;\n    }\n\n    .dataframe thead th {\n        text-align: right;\n    }\n</style>\n<table border=\"1\" class=\"dataframe\">\n  <thead>\n    <tr style=\"text-align: right;\">\n      <th></th>\n      <th>Neighborhood</th>\n      <th>Yoga Studio</th>\n      <th>Afghan Restaurant</th>\n      <th>Airport</th>\n      <th>Airport Food Court</th>\n      <th>Airport Lounge</th>\n      <th>Airport Service</th>\n      <th>Airport Terminal</th>\n      <th>American Restaurant</th>\n      <th>Antique Shop</th>\n      <th>...</th>\n      <th>Toy / Game Store</th>\n      <th>Trail</th>\n      <th>Train Station</th>\n      <th>Vegetarian / Vegan Restaurant</th>\n      <th>Video Game Store</th>\n      <th>Video Store</th>\n      <th>Vietnamese Restaurant</th>\n      <th>Wine Bar</th>\n      <th>Wings Joint</th>\n      <th>Women's Store</th>\n    </tr>\n  </thead>\n  <tbody>\n    <tr>\n      <th>0</th>\n      <td>Berczy Park</td>\n      <td>0.000000</td>\n      <td>0.0</td>\n      <td>0.000000</td>\n      <td>0.000000</td>\n      <td>0.000000</td>\n      <td>0.000000</td>\n      <td>0.000000</td>\n      <td>0.0</td>\n      <td>0.0</td>\n      <td>...</td>\n      <td>0.0</td>\n      <td>0.0</td>\n      <td>0.0</td>\n      <td>0.017857</td>\n      <td>0.0</td>\n      <td>0.000000</td>\n      <td>0.0</td>\n      <td>0.000000</td>\n      <td>0.0</td>\n      <td>0.0</td>\n    </tr>\n    <tr>\n      <th>1</th>\n      <td>Brockton, Parkdale Village, Exhibition Place</td>\n      <td>0.000000</td>\n      <td>0.0</td>\n      <td>0.000000</td>\n      <td>0.000000</td>\n      <td>0.000000</td>\n      <td>0.000000</td>\n      <td>0.000000</td>\n      <td>0.0</td>\n      <td>0.0</td>\n      <td>...</td>\n      <td>0.0</td>\n      <td>0.0</td>\n      <td>0.0</td>\n      <td>0.000000</td>\n      <td>0.0</td>\n      <td>0.000000</td>\n      <td>0.0</td>\n      <td>0.000000</td>\n      <td>0.0</td>\n      <td>0.0</td>\n    </tr>\n    <tr>\n      <th>2</th>\n      <td>Business reply mail Processing Centre, South C...</td>\n      <td>0.058824</td>\n      <td>0.0</td>\n      <td>0.000000</td>\n      <td>0.000000</td>\n      <td>0.000000</td>\n      <td>0.000000</td>\n      <td>0.000000</td>\n      <td>0.0</td>\n      <td>0.0</td>\n      <td>...</td>\n      <td>0.0</td>\n      <td>0.0</td>\n      <td>0.0</td>\n      <td>0.000000</td>\n      <td>0.0</td>\n      <td>0.000000</td>\n      <td>0.0</td>\n      <td>0.000000</td>\n      <td>0.0</td>\n      <td>0.0</td>\n    </tr>\n    <tr>\n      <th>3</th>\n      <td>CN Tower, King and Spadina, Railway Lands, Har...</td>\n      <td>0.000000</td>\n      <td>0.0</td>\n      <td>0.066667</td>\n      <td>0.066667</td>\n      <td>0.133333</td>\n      <td>0.133333</td>\n      <td>0.133333</td>\n      <td>0.0</td>\n      <td>0.0</td>\n      <td>...</td>\n      <td>0.0</td>\n      <td>0.0</td>\n      <td>0.0</td>\n      <td>0.000000</td>\n      <td>0.0</td>\n      <td>0.000000</td>\n      <td>0.0</td>\n      <td>0.000000</td>\n      <td>0.0</td>\n      <td>0.0</td>\n    </tr>\n    <tr>\n      <th>4</th>\n      <td>Central Bay Street</td>\n      <td>0.015152</td>\n      <td>0.0</td>\n      <td>0.000000</td>\n      <td>0.000000</td>\n      <td>0.000000</td>\n      <td>0.000000</td>\n      <td>0.000000</td>\n      <td>0.0</td>\n      <td>0.0</td>\n      <td>...</td>\n      <td>0.0</td>\n      <td>0.0</td>\n      <td>0.0</td>\n      <td>0.015152</td>\n      <td>0.0</td>\n      <td>0.015152</td>\n      <td>0.0</td>\n      <td>0.015152</td>\n      <td>0.0</td>\n      <td>0.0</td>\n    </tr>\n  </tbody>\n</table>\n<p>5 rows \u00d7 246 columns</p>\n</div>",
                        "text/plain": "                                        Neighborhood  Yoga Studio  \\\n0                                        Berczy Park     0.000000   \n1       Brockton, Parkdale Village, Exhibition Place     0.000000   \n2  Business reply mail Processing Centre, South C...     0.058824   \n3  CN Tower, King and Spadina, Railway Lands, Har...     0.000000   \n4                                 Central Bay Street     0.015152   \n\n   Afghan Restaurant   Airport  Airport Food Court  Airport Lounge  \\\n0                0.0  0.000000            0.000000        0.000000   \n1                0.0  0.000000            0.000000        0.000000   \n2                0.0  0.000000            0.000000        0.000000   \n3                0.0  0.066667            0.066667        0.133333   \n4                0.0  0.000000            0.000000        0.000000   \n\n   Airport Service  Airport Terminal  American Restaurant  Antique Shop  ...  \\\n0         0.000000          0.000000                  0.0           0.0  ...   \n1         0.000000          0.000000                  0.0           0.0  ...   \n2         0.000000          0.000000                  0.0           0.0  ...   \n3         0.133333          0.133333                  0.0           0.0  ...   \n4         0.000000          0.000000                  0.0           0.0  ...   \n\n   Toy / Game Store  Trail  Train Station  Vegetarian / Vegan Restaurant  \\\n0               0.0    0.0            0.0                       0.017857   \n1               0.0    0.0            0.0                       0.000000   \n2               0.0    0.0            0.0                       0.000000   \n3               0.0    0.0            0.0                       0.000000   \n4               0.0    0.0            0.0                       0.015152   \n\n   Video Game Store  Video Store  Vietnamese Restaurant  Wine Bar  \\\n0               0.0     0.000000                    0.0  0.000000   \n1               0.0     0.000000                    0.0  0.000000   \n2               0.0     0.000000                    0.0  0.000000   \n3               0.0     0.000000                    0.0  0.000000   \n4               0.0     0.015152                    0.0  0.015152   \n\n   Wings Joint  Women's Store  \n0          0.0            0.0  \n1          0.0            0.0  \n2          0.0            0.0  \n3          0.0            0.0  \n4          0.0            0.0  \n\n[5 rows x 246 columns]"
                    },
                    "execution_count": 63,
                    "metadata": {},
                    "output_type": "execute_result"
                }
            ],
            "source": "Grouped=onehot.groupby('Neighborhood').mean().reset_index()\nGrouped.head()"
        },
        {
            "cell_type": "markdown",
            "metadata": {},
            "source": "***Calculate the rank of veneus***"
        },
        {
            "cell_type": "code",
            "execution_count": 64,
            "metadata": {},
            "outputs": [
                {
                    "data": {
                        "text/html": "<div>\n<style scoped>\n    .dataframe tbody tr th:only-of-type {\n        vertical-align: middle;\n    }\n\n    .dataframe tbody tr th {\n        vertical-align: top;\n    }\n\n    .dataframe thead th {\n        text-align: right;\n    }\n</style>\n<table border=\"1\" class=\"dataframe\">\n  <thead>\n    <tr style=\"text-align: right;\">\n      <th></th>\n      <th>Neighborhood</th>\n      <th>1st Most Common Venue</th>\n      <th>2nd Most Common Venue</th>\n      <th>3rd Most Common Venue</th>\n      <th>4th Most Common Venue</th>\n      <th>5th Most Common Venue</th>\n    </tr>\n  </thead>\n  <tbody>\n    <tr>\n      <th>0</th>\n      <td>Berczy Park</td>\n      <td>Coffee Shop</td>\n      <td>Cocktail Bar</td>\n      <td>Restaurant</td>\n      <td>Bakery</td>\n      <td>Seafood Restaurant</td>\n    </tr>\n    <tr>\n      <th>1</th>\n      <td>Brockton, Parkdale Village, Exhibition Place</td>\n      <td>Caf\u00e9</td>\n      <td>Breakfast Spot</td>\n      <td>Coffee Shop</td>\n      <td>Climbing Gym</td>\n      <td>Burrito Place</td>\n    </tr>\n    <tr>\n      <th>2</th>\n      <td>Business reply mail Processing Centre, South C...</td>\n      <td>Light Rail Station</td>\n      <td>Yoga Studio</td>\n      <td>Pizza Place</td>\n      <td>Brewery</td>\n      <td>Burrito Place</td>\n    </tr>\n    <tr>\n      <th>3</th>\n      <td>CN Tower, King and Spadina, Railway Lands, Har...</td>\n      <td>Airport Lounge</td>\n      <td>Airport Service</td>\n      <td>Airport Terminal</td>\n      <td>Harbor / Marina</td>\n      <td>Boat or Ferry</td>\n    </tr>\n    <tr>\n      <th>4</th>\n      <td>Central Bay Street</td>\n      <td>Coffee Shop</td>\n      <td>Caf\u00e9</td>\n      <td>Italian Restaurant</td>\n      <td>Japanese Restaurant</td>\n      <td>Sandwich Place</td>\n    </tr>\n  </tbody>\n</table>\n</div>",
                        "text/plain": "                                        Neighborhood 1st Most Common Venue  \\\n0                                        Berczy Park           Coffee Shop   \n1       Brockton, Parkdale Village, Exhibition Place                  Caf\u00e9   \n2  Business reply mail Processing Centre, South C...    Light Rail Station   \n3  CN Tower, King and Spadina, Railway Lands, Har...        Airport Lounge   \n4                                 Central Bay Street           Coffee Shop   \n\n  2nd Most Common Venue 3rd Most Common Venue 4th Most Common Venue  \\\n0          Cocktail Bar            Restaurant                Bakery   \n1        Breakfast Spot           Coffee Shop          Climbing Gym   \n2           Yoga Studio           Pizza Place               Brewery   \n3       Airport Service      Airport Terminal       Harbor / Marina   \n4                  Caf\u00e9    Italian Restaurant   Japanese Restaurant   \n\n  5th Most Common Venue  \n0    Seafood Restaurant  \n1         Burrito Place  \n2         Burrito Place  \n3         Boat or Ferry  \n4        Sandwich Place  "
                    },
                    "execution_count": 64,
                    "metadata": {},
                    "output_type": "execute_result"
                }
            ],
            "source": "def return_most_common_venues(row, num_top_venues):\n    row_categories = row.iloc[1:]\n    row_categories_sorted = row_categories.sort_values(ascending=False)\n    \n    return row_categories_sorted.index.values[0:num_top_venues]\n\nnum_top_venues = 5\n\nindicators = ['st', 'nd', 'rd']\n\n# create columns according to number of top venues\ncolumns = ['Neighborhood']\nfor ind in np.arange(num_top_venues):\n    try:\n        columns.append('{}{} Most Common Venue'.format(ind+1, indicators[ind]))\n    except:\n        columns.append('{}th Most Common Venue'.format(ind+1))\n\n# create a new dataframe\nneighborhoods_venues_sorted = pd.DataFrame(columns=columns)\nneighborhoods_venues_sorted['Neighborhood'] = Grouped['Neighborhood']\n\nfor ind in np.arange(Grouped.shape[0]):\n    neighborhoods_venues_sorted.iloc[ind, 1:] = return_most_common_venues(Grouped.iloc[ind, :], num_top_venues)\n\nneighborhoods_venues_sorted.head()"
        },
        {
            "cell_type": "markdown",
            "metadata": {},
            "source": "***Generate the recommondation list***"
        },
        {
            "cell_type": "code",
            "execution_count": 65,
            "metadata": {},
            "outputs": [],
            "source": "from sklearn.neighbors import KNeighborsClassifier\nfrom sklearn import metrics"
        },
        {
            "cell_type": "code",
            "execution_count": 67,
            "metadata": {},
            "outputs": [
                {
                    "data": {
                        "text/html": "<div>\n<style scoped>\n    .dataframe tbody tr th:only-of-type {\n        vertical-align: middle;\n    }\n\n    .dataframe tbody tr th {\n        vertical-align: top;\n    }\n\n    .dataframe thead th {\n        text-align: right;\n    }\n</style>\n<table border=\"1\" class=\"dataframe\">\n  <thead>\n    <tr style=\"text-align: right;\">\n      <th></th>\n      <th>Neighborhood</th>\n      <th>Neighborhood Latitude</th>\n      <th>Neighborhood Longitude</th>\n      <th>Venue</th>\n      <th>Venue Latitude</th>\n      <th>Venue Longitude</th>\n      <th>Venue Category</th>\n      <th>Cluster Labels</th>\n      <th>1st Most Common Venue</th>\n      <th>2nd Most Common Venue</th>\n      <th>3rd Most Common Venue</th>\n      <th>4th Most Common Venue</th>\n      <th>5th Most Common Venue</th>\n    </tr>\n  </thead>\n  <tbody>\n    <tr>\n      <th>0</th>\n      <td>Regent Park, Harbourfront</td>\n      <td>43.65426</td>\n      <td>-79.360636</td>\n      <td>Roselle Desserts</td>\n      <td>43.653447</td>\n      <td>-79.362017</td>\n      <td>Bakery</td>\n      <td>1</td>\n      <td>Coffee Shop</td>\n      <td>Park</td>\n      <td>Bakery</td>\n      <td>Pub</td>\n      <td>Breakfast Spot</td>\n    </tr>\n    <tr>\n      <th>1</th>\n      <td>Regent Park, Harbourfront</td>\n      <td>43.65426</td>\n      <td>-79.360636</td>\n      <td>Tandem Coffee</td>\n      <td>43.653559</td>\n      <td>-79.361809</td>\n      <td>Coffee Shop</td>\n      <td>1</td>\n      <td>Coffee Shop</td>\n      <td>Park</td>\n      <td>Bakery</td>\n      <td>Pub</td>\n      <td>Breakfast Spot</td>\n    </tr>\n    <tr>\n      <th>2</th>\n      <td>Regent Park, Harbourfront</td>\n      <td>43.65426</td>\n      <td>-79.360636</td>\n      <td>Morning Glory Cafe</td>\n      <td>43.653947</td>\n      <td>-79.361149</td>\n      <td>Breakfast Spot</td>\n      <td>1</td>\n      <td>Coffee Shop</td>\n      <td>Park</td>\n      <td>Bakery</td>\n      <td>Pub</td>\n      <td>Breakfast Spot</td>\n    </tr>\n    <tr>\n      <th>3</th>\n      <td>Regent Park, Harbourfront</td>\n      <td>43.65426</td>\n      <td>-79.360636</td>\n      <td>Cooper Koo Family YMCA</td>\n      <td>43.653249</td>\n      <td>-79.358008</td>\n      <td>Distribution Center</td>\n      <td>1</td>\n      <td>Coffee Shop</td>\n      <td>Park</td>\n      <td>Bakery</td>\n      <td>Pub</td>\n      <td>Breakfast Spot</td>\n    </tr>\n    <tr>\n      <th>4</th>\n      <td>Regent Park, Harbourfront</td>\n      <td>43.65426</td>\n      <td>-79.360636</td>\n      <td>Body Blitz Spa East</td>\n      <td>43.654735</td>\n      <td>-79.359874</td>\n      <td>Spa</td>\n      <td>1</td>\n      <td>Coffee Shop</td>\n      <td>Park</td>\n      <td>Bakery</td>\n      <td>Pub</td>\n      <td>Breakfast Spot</td>\n    </tr>\n  </tbody>\n</table>\n</div>",
                        "text/plain": "                Neighborhood  Neighborhood Latitude  Neighborhood Longitude  \\\n0  Regent Park, Harbourfront               43.65426              -79.360636   \n1  Regent Park, Harbourfront               43.65426              -79.360636   \n2  Regent Park, Harbourfront               43.65426              -79.360636   \n3  Regent Park, Harbourfront               43.65426              -79.360636   \n4  Regent Park, Harbourfront               43.65426              -79.360636   \n\n                    Venue  Venue Latitude  Venue Longitude  \\\n0        Roselle Desserts       43.653447       -79.362017   \n1           Tandem Coffee       43.653559       -79.361809   \n2      Morning Glory Cafe       43.653947       -79.361149   \n3  Cooper Koo Family YMCA       43.653249       -79.358008   \n4     Body Blitz Spa East       43.654735       -79.359874   \n\n        Venue Category  Cluster Labels 1st Most Common Venue  \\\n0               Bakery               1           Coffee Shop   \n1          Coffee Shop               1           Coffee Shop   \n2       Breakfast Spot               1           Coffee Shop   \n3  Distribution Center               1           Coffee Shop   \n4                  Spa               1           Coffee Shop   \n\n  2nd Most Common Venue 3rd Most Common Venue 4th Most Common Venue  \\\n0                  Park                Bakery                   Pub   \n1                  Park                Bakery                   Pub   \n2                  Park                Bakery                   Pub   \n3                  Park                Bakery                   Pub   \n4                  Park                Bakery                   Pub   \n\n  5th Most Common Venue  \n0        Breakfast Spot  \n1        Breakfast Spot  \n2        Breakfast Spot  \n3        Breakfast Spot  \n4        Breakfast Spot  "
                    },
                    "execution_count": 67,
                    "metadata": {},
                    "output_type": "execute_result"
                }
            ],
            "source": "ks=6\nGrouped_clustering=Grouped.drop('Neighborhood',1)\nkmeans = KMeans(n_clusters=ks, random_state=0).fit(Grouped_clustering)\nkmeans.labels_[0:10]\nneighborhoods_venues_sorted.insert(0, 'Cluster Labels', kmeans.labels_)\nNeighborhood_merged = Venues_all\nNeighborhood_merged = Neighborhood_merged.join(neighborhoods_venues_sorted.set_index('Neighborhood'), on='Neighborhood')\nNeighborhood_merged.head()"
        },
        {
            "cell_type": "code",
            "execution_count": 93,
            "metadata": {},
            "outputs": [],
            "source": "NeighborList=Neighborhood_merged[(Neighborhood_merged['Cluster Labels']==1)]"
        },
        {
            "cell_type": "code",
            "execution_count": 94,
            "metadata": {},
            "outputs": [],
            "source": "NeighborList=NeighborList[['Neighborhood','1st Most Common Venue','2nd Most Common Venue','3rd Most Common Venue','4th Most Common Venue','5th Most Common Venue']]"
        },
        {
            "cell_type": "code",
            "execution_count": 95,
            "metadata": {},
            "outputs": [],
            "source": "NeighborList=NeighborList.drop_duplicates()"
        },
        {
            "cell_type": "code",
            "execution_count": 96,
            "metadata": {},
            "outputs": [],
            "source": "NeighborList=NeighborList.reset_index()\nNeighborList.drop(['index'],axis=1,inplace=True)"
        },
        {
            "cell_type": "code",
            "execution_count": 97,
            "metadata": {},
            "outputs": [
                {
                    "data": {
                        "text/html": "<div>\n<style scoped>\n    .dataframe tbody tr th:only-of-type {\n        vertical-align: middle;\n    }\n\n    .dataframe tbody tr th {\n        vertical-align: top;\n    }\n\n    .dataframe thead th {\n        text-align: right;\n    }\n</style>\n<table border=\"1\" class=\"dataframe\">\n  <thead>\n    <tr style=\"text-align: right;\">\n      <th></th>\n      <th>Neighborhood</th>\n      <th>1st Most Common Venue</th>\n      <th>2nd Most Common Venue</th>\n      <th>3rd Most Common Venue</th>\n      <th>4th Most Common Venue</th>\n      <th>5th Most Common Venue</th>\n    </tr>\n  </thead>\n  <tbody>\n    <tr>\n      <th>0</th>\n      <td>Regent Park, Harbourfront</td>\n      <td>Coffee Shop</td>\n      <td>Park</td>\n      <td>Bakery</td>\n      <td>Pub</td>\n      <td>Breakfast Spot</td>\n    </tr>\n    <tr>\n      <th>1</th>\n      <td>Queen's Park, Ontario Provincial Government</td>\n      <td>Coffee Shop</td>\n      <td>Sushi Restaurant</td>\n      <td>College Cafeteria</td>\n      <td>Beer Bar</td>\n      <td>Smoothie Shop</td>\n    </tr>\n    <tr>\n      <th>2</th>\n      <td>Garden District, Ryerson</td>\n      <td>Clothing Store</td>\n      <td>Coffee Shop</td>\n      <td>Cosmetics Shop</td>\n      <td>Caf\u00e9</td>\n      <td>Bubble Tea Shop</td>\n    </tr>\n    <tr>\n      <th>3</th>\n      <td>St. James Town</td>\n      <td>Caf\u00e9</td>\n      <td>Coffee Shop</td>\n      <td>Restaurant</td>\n      <td>Cocktail Bar</td>\n      <td>American Restaurant</td>\n    </tr>\n    <tr>\n      <th>4</th>\n      <td>The Beaches</td>\n      <td>Trail</td>\n      <td>Health Food Store</td>\n      <td>Pub</td>\n      <td>Department Store</td>\n      <td>Dessert Shop</td>\n    </tr>\n    <tr>\n      <th>5</th>\n      <td>Berczy Park</td>\n      <td>Coffee Shop</td>\n      <td>Cocktail Bar</td>\n      <td>Restaurant</td>\n      <td>Bakery</td>\n      <td>Seafood Restaurant</td>\n    </tr>\n    <tr>\n      <th>6</th>\n      <td>Central Bay Street</td>\n      <td>Coffee Shop</td>\n      <td>Caf\u00e9</td>\n      <td>Italian Restaurant</td>\n      <td>Japanese Restaurant</td>\n      <td>Sandwich Place</td>\n    </tr>\n    <tr>\n      <th>7</th>\n      <td>Christie</td>\n      <td>Grocery Store</td>\n      <td>Caf\u00e9</td>\n      <td>Park</td>\n      <td>Candy Store</td>\n      <td>Diner</td>\n    </tr>\n    <tr>\n      <th>8</th>\n      <td>Richmond, Adelaide, King</td>\n      <td>Coffee Shop</td>\n      <td>Caf\u00e9</td>\n      <td>Restaurant</td>\n      <td>Deli / Bodega</td>\n      <td>Hotel</td>\n    </tr>\n    <tr>\n      <th>9</th>\n      <td>Dufferin, Dovercourt Village</td>\n      <td>Pharmacy</td>\n      <td>Bakery</td>\n      <td>Coffee Shop</td>\n      <td>Bank</td>\n      <td>Middle Eastern Restaurant</td>\n    </tr>\n    <tr>\n      <th>10</th>\n      <td>Harbourfront East, Union Station, Toronto Islands</td>\n      <td>Coffee Shop</td>\n      <td>Aquarium</td>\n      <td>Hotel</td>\n      <td>Caf\u00e9</td>\n      <td>Scenic Lookout</td>\n    </tr>\n    <tr>\n      <th>11</th>\n      <td>Little Portugal, Trinity</td>\n      <td>Bar</td>\n      <td>Asian Restaurant</td>\n      <td>Caf\u00e9</td>\n      <td>Coffee Shop</td>\n      <td>Restaurant</td>\n    </tr>\n    <tr>\n      <th>12</th>\n      <td>The Danforth West, Riverdale</td>\n      <td>Greek Restaurant</td>\n      <td>Coffee Shop</td>\n      <td>Italian Restaurant</td>\n      <td>Ice Cream Shop</td>\n      <td>Furniture / Home Store</td>\n    </tr>\n    <tr>\n      <th>13</th>\n      <td>Toronto Dominion Centre, Design Exchange</td>\n      <td>Coffee Shop</td>\n      <td>Caf\u00e9</td>\n      <td>Hotel</td>\n      <td>Restaurant</td>\n      <td>Seafood Restaurant</td>\n    </tr>\n    <tr>\n      <th>14</th>\n      <td>Brockton, Parkdale Village, Exhibition Place</td>\n      <td>Caf\u00e9</td>\n      <td>Breakfast Spot</td>\n      <td>Coffee Shop</td>\n      <td>Climbing Gym</td>\n      <td>Burrito Place</td>\n    </tr>\n    <tr>\n      <th>15</th>\n      <td>India Bazaar, The Beaches West</td>\n      <td>Sandwich Place</td>\n      <td>Fast Food Restaurant</td>\n      <td>Park</td>\n      <td>Steakhouse</td>\n      <td>Ice Cream Shop</td>\n    </tr>\n    <tr>\n      <th>16</th>\n      <td>Commerce Court, Victoria Hotel</td>\n      <td>Coffee Shop</td>\n      <td>Restaurant</td>\n      <td>Caf\u00e9</td>\n      <td>Hotel</td>\n      <td>Gym</td>\n    </tr>\n    <tr>\n      <th>17</th>\n      <td>Studio District</td>\n      <td>Caf\u00e9</td>\n      <td>Coffee Shop</td>\n      <td>Gastropub</td>\n      <td>Bakery</td>\n      <td>Brewery</td>\n    </tr>\n    <tr>\n      <th>18</th>\n      <td>Davisville North</td>\n      <td>Park</td>\n      <td>Breakfast Spot</td>\n      <td>Hotel</td>\n      <td>Food &amp; Drink Shop</td>\n      <td>Sandwich Place</td>\n    </tr>\n    <tr>\n      <th>19</th>\n      <td>High Park, The Junction South</td>\n      <td>Thai Restaurant</td>\n      <td>Mexican Restaurant</td>\n      <td>Caf\u00e9</td>\n      <td>Park</td>\n      <td>Flea Market</td>\n    </tr>\n    <tr>\n      <th>20</th>\n      <td>North Toronto West, Lawrence Park</td>\n      <td>Clothing Store</td>\n      <td>Coffee Shop</td>\n      <td>Pet Store</td>\n      <td>Spa</td>\n      <td>Salon / Barbershop</td>\n    </tr>\n    <tr>\n      <th>21</th>\n      <td>The Annex, North Midtown, Yorkville</td>\n      <td>Caf\u00e9</td>\n      <td>Sandwich Place</td>\n      <td>Coffee Shop</td>\n      <td>Park</td>\n      <td>Plaza</td>\n    </tr>\n    <tr>\n      <th>22</th>\n      <td>Parkdale, Roncesvalles</td>\n      <td>Gift Shop</td>\n      <td>Breakfast Spot</td>\n      <td>Dog Run</td>\n      <td>Restaurant</td>\n      <td>Bar</td>\n    </tr>\n    <tr>\n      <th>23</th>\n      <td>Davisville</td>\n      <td>Dessert Shop</td>\n      <td>Sandwich Place</td>\n      <td>Coffee Shop</td>\n      <td>Gym</td>\n      <td>Italian Restaurant</td>\n    </tr>\n    <tr>\n      <th>24</th>\n      <td>University of Toronto, Harbord</td>\n      <td>Caf\u00e9</td>\n      <td>Restaurant</td>\n      <td>Bar</td>\n      <td>Italian Restaurant</td>\n      <td>Bookstore</td>\n    </tr>\n    <tr>\n      <th>25</th>\n      <td>Runnymede, Swansea</td>\n      <td>Caf\u00e9</td>\n      <td>Coffee Shop</td>\n      <td>Sushi Restaurant</td>\n      <td>Italian Restaurant</td>\n      <td>Pub</td>\n    </tr>\n    <tr>\n      <th>26</th>\n      <td>Kensington Market, Chinatown, Grange Park</td>\n      <td>Caf\u00e9</td>\n      <td>Coffee Shop</td>\n      <td>Vegetarian / Vegan Restaurant</td>\n      <td>Bakery</td>\n      <td>Mexican Restaurant</td>\n    </tr>\n    <tr>\n      <th>27</th>\n      <td>Summerhill West, Rathnelly, South Hill, Forest...</td>\n      <td>Coffee Shop</td>\n      <td>Pub</td>\n      <td>Pizza Place</td>\n      <td>Sports Bar</td>\n      <td>Supermarket</td>\n    </tr>\n    <tr>\n      <th>28</th>\n      <td>CN Tower, King and Spadina, Railway Lands, Har...</td>\n      <td>Airport Lounge</td>\n      <td>Airport Service</td>\n      <td>Airport Terminal</td>\n      <td>Harbor / Marina</td>\n      <td>Boat or Ferry</td>\n    </tr>\n    <tr>\n      <th>29</th>\n      <td>Stn A PO Boxes</td>\n      <td>Coffee Shop</td>\n      <td>Caf\u00e9</td>\n      <td>Cocktail Bar</td>\n      <td>Japanese Restaurant</td>\n      <td>Italian Restaurant</td>\n    </tr>\n    <tr>\n      <th>30</th>\n      <td>St. James Town, Cabbagetown</td>\n      <td>Coffee Shop</td>\n      <td>Bakery</td>\n      <td>Restaurant</td>\n      <td>Pizza Place</td>\n      <td>Chinese Restaurant</td>\n    </tr>\n    <tr>\n      <th>31</th>\n      <td>First Canadian Place, Underground city</td>\n      <td>Coffee Shop</td>\n      <td>Caf\u00e9</td>\n      <td>Japanese Restaurant</td>\n      <td>Restaurant</td>\n      <td>Gym</td>\n    </tr>\n    <tr>\n      <th>32</th>\n      <td>Church and Wellesley</td>\n      <td>Coffee Shop</td>\n      <td>Sushi Restaurant</td>\n      <td>Japanese Restaurant</td>\n      <td>Gay Bar</td>\n      <td>Restaurant</td>\n    </tr>\n    <tr>\n      <th>33</th>\n      <td>Business reply mail Processing Centre, South C...</td>\n      <td>Light Rail Station</td>\n      <td>Yoga Studio</td>\n      <td>Pizza Place</td>\n      <td>Brewery</td>\n      <td>Burrito Place</td>\n    </tr>\n    <tr>\n      <th>34</th>\n      <td>Chinatown</td>\n      <td>Chinese Restaurant</td>\n      <td>Bakery</td>\n      <td>Cocktail Bar</td>\n      <td>Bubble Tea Shop</td>\n      <td>Ice Cream Shop</td>\n    </tr>\n  </tbody>\n</table>\n</div>",
                        "text/plain": "                                         Neighborhood 1st Most Common Venue  \\\n0                           Regent Park, Harbourfront           Coffee Shop   \n1         Queen's Park, Ontario Provincial Government           Coffee Shop   \n2                            Garden District, Ryerson        Clothing Store   \n3                                      St. James Town                  Caf\u00e9   \n4                                         The Beaches                 Trail   \n5                                         Berczy Park           Coffee Shop   \n6                                  Central Bay Street           Coffee Shop   \n7                                            Christie         Grocery Store   \n8                            Richmond, Adelaide, King           Coffee Shop   \n9                        Dufferin, Dovercourt Village              Pharmacy   \n10  Harbourfront East, Union Station, Toronto Islands           Coffee Shop   \n11                           Little Portugal, Trinity                   Bar   \n12                       The Danforth West, Riverdale      Greek Restaurant   \n13           Toronto Dominion Centre, Design Exchange           Coffee Shop   \n14       Brockton, Parkdale Village, Exhibition Place                  Caf\u00e9   \n15                     India Bazaar, The Beaches West        Sandwich Place   \n16                     Commerce Court, Victoria Hotel           Coffee Shop   \n17                                    Studio District                  Caf\u00e9   \n18                                   Davisville North                  Park   \n19                      High Park, The Junction South       Thai Restaurant   \n20                  North Toronto West, Lawrence Park        Clothing Store   \n21                The Annex, North Midtown, Yorkville                  Caf\u00e9   \n22                             Parkdale, Roncesvalles             Gift Shop   \n23                                         Davisville          Dessert Shop   \n24                     University of Toronto, Harbord                  Caf\u00e9   \n25                                 Runnymede, Swansea                  Caf\u00e9   \n26          Kensington Market, Chinatown, Grange Park                  Caf\u00e9   \n27  Summerhill West, Rathnelly, South Hill, Forest...           Coffee Shop   \n28  CN Tower, King and Spadina, Railway Lands, Har...        Airport Lounge   \n29                                     Stn A PO Boxes           Coffee Shop   \n30                        St. James Town, Cabbagetown           Coffee Shop   \n31             First Canadian Place, Underground city           Coffee Shop   \n32                               Church and Wellesley           Coffee Shop   \n33  Business reply mail Processing Centre, South C...    Light Rail Station   \n34                                          Chinatown    Chinese Restaurant   \n\n   2nd Most Common Venue          3rd Most Common Venue 4th Most Common Venue  \\\n0                   Park                         Bakery                   Pub   \n1       Sushi Restaurant              College Cafeteria              Beer Bar   \n2            Coffee Shop                 Cosmetics Shop                  Caf\u00e9   \n3            Coffee Shop                     Restaurant          Cocktail Bar   \n4      Health Food Store                            Pub      Department Store   \n5           Cocktail Bar                     Restaurant                Bakery   \n6                   Caf\u00e9             Italian Restaurant   Japanese Restaurant   \n7                   Caf\u00e9                           Park           Candy Store   \n8                   Caf\u00e9                     Restaurant         Deli / Bodega   \n9                 Bakery                    Coffee Shop                  Bank   \n10              Aquarium                          Hotel                  Caf\u00e9   \n11      Asian Restaurant                           Caf\u00e9           Coffee Shop   \n12           Coffee Shop             Italian Restaurant        Ice Cream Shop   \n13                  Caf\u00e9                          Hotel            Restaurant   \n14        Breakfast Spot                    Coffee Shop          Climbing Gym   \n15  Fast Food Restaurant                           Park            Steakhouse   \n16            Restaurant                           Caf\u00e9                 Hotel   \n17           Coffee Shop                      Gastropub                Bakery   \n18        Breakfast Spot                          Hotel     Food & Drink Shop   \n19    Mexican Restaurant                           Caf\u00e9                  Park   \n20           Coffee Shop                      Pet Store                   Spa   \n21        Sandwich Place                    Coffee Shop                  Park   \n22        Breakfast Spot                        Dog Run            Restaurant   \n23        Sandwich Place                    Coffee Shop                   Gym   \n24            Restaurant                            Bar    Italian Restaurant   \n25           Coffee Shop               Sushi Restaurant    Italian Restaurant   \n26           Coffee Shop  Vegetarian / Vegan Restaurant                Bakery   \n27                   Pub                    Pizza Place            Sports Bar   \n28       Airport Service               Airport Terminal       Harbor / Marina   \n29                  Caf\u00e9                   Cocktail Bar   Japanese Restaurant   \n30                Bakery                     Restaurant           Pizza Place   \n31                  Caf\u00e9            Japanese Restaurant            Restaurant   \n32      Sushi Restaurant            Japanese Restaurant               Gay Bar   \n33           Yoga Studio                    Pizza Place               Brewery   \n34                Bakery                   Cocktail Bar       Bubble Tea Shop   \n\n        5th Most Common Venue  \n0              Breakfast Spot  \n1               Smoothie Shop  \n2             Bubble Tea Shop  \n3         American Restaurant  \n4                Dessert Shop  \n5          Seafood Restaurant  \n6              Sandwich Place  \n7                       Diner  \n8                       Hotel  \n9   Middle Eastern Restaurant  \n10             Scenic Lookout  \n11                 Restaurant  \n12     Furniture / Home Store  \n13         Seafood Restaurant  \n14              Burrito Place  \n15             Ice Cream Shop  \n16                        Gym  \n17                    Brewery  \n18             Sandwich Place  \n19                Flea Market  \n20         Salon / Barbershop  \n21                      Plaza  \n22                        Bar  \n23         Italian Restaurant  \n24                  Bookstore  \n25                        Pub  \n26         Mexican Restaurant  \n27                Supermarket  \n28              Boat or Ferry  \n29         Italian Restaurant  \n30         Chinese Restaurant  \n31                        Gym  \n32                 Restaurant  \n33              Burrito Place  \n34             Ice Cream Shop  "
                    },
                    "execution_count": 97,
                    "metadata": {},
                    "output_type": "execute_result"
                }
            ],
            "source": "NeighborList"
        },
        {
            "cell_type": "markdown",
            "metadata": {},
            "source": "***This list includs all the neighborhoods which are similar with the Chinatown. Besides we can see the top five venues in each neighborhood.<br/>\nBased on this list, Mike could select the best place to live.***"
        },
        {
            "cell_type": "markdown",
            "metadata": {},
            "source": "## 6.Result and Discussion\n<br/>\nOur analysis shows that there are 33 neighborhoods are similar with the Chinatown which means Mike has many different choices.<br/>\nAlthough the meighborhoods in the table above are similar, the ranks of venues are various. If Mike want to select the best place,<br/>\nhe can conciderate each verious carfully. For instance, if the Chinese Restaurant is the most indispensiable venue. The St. James Town <br/>\nor the Cabbagetown maybe a good choice.\n"
        },
        {
            "cell_type": "markdown",
            "metadata": {},
            "source": "## 7.Conclusion\nPurpose of this project was to identify neighborhoods in Toronto whose revues features are similar with the Chinatown in Mahantan.<br/>\nBy calculating the dataset. We collect various location data and rebuild them, then cluster 6 groups by using k_means method. In order <br/>\nto give more details, we calculate the ranks of venues in each neighborhood. arting points for final exploration by stakeholders.<br/><br/>\nFinal decission on optimal neighborhood location will be made by Mike based on specific characteristics of neighborhoods , taking into <br/>\nconsideration additional factors like frequence of each venue."
        },
        {
            "cell_type": "code",
            "execution_count": null,
            "metadata": {},
            "outputs": [],
            "source": ""
        }
    ],
    "metadata": {
        "kernelspec": {
            "display_name": "Python 3.6",
            "language": "python",
            "name": "python3"
        },
        "language_info": {
            "codemirror_mode": {
                "name": "ipython",
                "version": 3
            },
            "file_extension": ".py",
            "mimetype": "text/x-python",
            "name": "python",
            "nbconvert_exporter": "python",
            "pygments_lexer": "ipython3",
            "version": "3.6.9"
        }
    },
    "nbformat": 4,
    "nbformat_minor": 1
}