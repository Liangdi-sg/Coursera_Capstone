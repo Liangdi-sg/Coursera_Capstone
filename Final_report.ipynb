{
    "cells": [
        {
            "cell_type": "markdown",
            "metadata": {
                "collapsed": true
            },
            "source": "## Final Report"
        },
        {
            "cell_type": "markdown",
            "metadata": {},
            "source": "### 1.Introduction\nI have been learning IBM DataScience for a few weeks. Now I will try to analysis a real problem and create values.<br/>\nMy project is relevant to **sits selection** and it can be used as a recommendation system.My analysis was performed<br/>\nin **Python**. The details are pushed to **Github**, containing detailed report and the Jupyter notebook. I will link them at<br/> the end of the report.\n"
        },
        {
            "cell_type": "markdown",
            "metadata": {},
            "source": "### 2.Business Problem\nMy friend Mike lived in **Chinatown** in **Manhattan** and he was prety ebjoied the venures in his neighborhood. <br/>\nHowever, he has to move to Toronto recently for his new job.He wants to pick a new neighborhood which is similar <br/>\nto the old one.The following criteria should be considered:\n- The features of Chinatown in Manhattan.\n- The features of Neighborhoods in Toronto.\n- Determine how similar or dissimilar they are.\n\n\nThe assumption behind the analysis is that we can use unsupervised machine learning to create clusters of districts <br/>\nthat will provide us with a list of areas for potential locations for the new neighborhoods."
        },
        {
            "cell_type": "code",
            "execution_count": null,
            "metadata": {},
            "outputs": [],
            "source": ""
        }
    ],
    "metadata": {
        "kernelspec": {
            "display_name": "Python 3.6",
            "language": "python",
            "name": "python3"
        },
        "language_info": {
            "codemirror_mode": {
                "name": "ipython",
                "version": 3
            },
            "file_extension": ".py",
            "mimetype": "text/x-python",
            "name": "python",
            "nbconvert_exporter": "python",
            "pygments_lexer": "ipython3",
            "version": "3.6.9"
        }
    },
    "nbformat": 4,
    "nbformat_minor": 1
}